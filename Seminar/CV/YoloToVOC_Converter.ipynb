{
 "cells": [
  {
   "cell_type": "code",
   "execution_count": 30,
   "id": "b1d29a82-698f-43f0-9357-1daf96920d17",
   "metadata": {},
   "outputs": [],
   "source": [
    "from pylabel import importer\n",
    "from pathlib import Path\n",
    "import os"
   ]
  },
  {
   "cell_type": "code",
   "execution_count": 31,
   "id": "10728331-2d08-4575-b02f-f00c60c3b464",
   "metadata": {},
   "outputs": [],
   "source": [
    "path_to_annotations = ['v25_v26/labels','v27_v28/labels']\n",
    "path_to_images = '../images'\n",
    "yoloclasses = [\"gloves\",\"Googles\",\"Helmets\",\"Vests\"]"
   ]
  },
  {
   "cell_type": "code",
   "execution_count": 34,
   "id": "f7a41504-cf25-4900-bb08-81655fe1242e",
   "metadata": {},
   "outputs": [
    {
     "name": "stderr",
     "output_type": "stream",
     "text": [
      "Importing YOLO files...: 100%|█████████████████████████████████████████████████████████| 82/82 [00:00<00:00, 84.89it/s]\n"
     ]
    },
    {
     "name": "stdout",
     "output_type": "stream",
     "text": [
      "Number of images: 82\n",
      "Number of classes: 4\n",
      "Classes:['gloves', 'Googles', 'Helmets', 'Vests']\n",
      "Class counts:\n",
      "cat_name\n",
      "gloves     146\n",
      "Helmets     81\n",
      "Vests       81\n",
      "Googles     75\n",
      "Name: count, dtype: int64\n"
     ]
    },
    {
     "name": "stderr",
     "output_type": "stream",
     "text": [
      "Exporting VOC files...: 100%|█████████████████████████████████████████████████████████| 82/82 [00:00<00:00, 143.36it/s]\n",
      "Importing YOLO files...: 100%|███████████████████████████████████████████████████████| 106/106 [00:03<00:00, 30.69it/s]\n"
     ]
    },
    {
     "name": "stdout",
     "output_type": "stream",
     "text": [
      "Number of images: 106\n",
      "Number of classes: 4\n",
      "Classes:['gloves', 'Googles', 'Helmets', 'Vests']\n",
      "Class counts:\n",
      "cat_name\n",
      "gloves     149\n",
      "Helmets    106\n",
      "Vests      106\n",
      "Googles     46\n",
      "Name: count, dtype: int64\n"
     ]
    },
    {
     "name": "stderr",
     "output_type": "stream",
     "text": [
      "Exporting VOC files...: 100%|███████████████████████████████████████████████████████| 106/106 [00:00<00:00, 148.46it/s]\n"
     ]
    }
   ],
   "source": [
    "for path in path_to_annotations:\n",
    "    dataset = importer.ImportYoloV5(path=path, path_to_images=path_to_images, cat_names=yoloclasses,\n",
    "    img_ext=\"jpg\", name=\"coco128\")\n",
    "    print(f\"Number of images: {dataset.analyze.num_images}\")\n",
    "    print(f\"Number of classes: {dataset.analyze.num_classes}\")\n",
    "    print(f\"Classes:{dataset.analyze.classes}\")\n",
    "    print(f\"Class counts:\\n{dataset.analyze.class_counts}\")\n",
    "    output_path = str(Path(dataset.path_to_annotations, \"../\", \"voc_annotations/\"))\n",
    "    Path(output_path).mkdir(exist_ok=True)\n",
    "    dataset.export.ExportToVoc(output_path=output_path)[0]"
   ]
  }
 ],
 "metadata": {
  "kernelspec": {
   "display_name": "Python 3 (ipykernel)",
   "language": "python",
   "name": "python3"
  },
  "language_info": {
   "codemirror_mode": {
    "name": "ipython",
    "version": 3
   },
   "file_extension": ".py",
   "mimetype": "text/x-python",
   "name": "python",
   "nbconvert_exporter": "python",
   "pygments_lexer": "ipython3",
   "version": "3.10.12"
  }
 },
 "nbformat": 4,
 "nbformat_minor": 5
}
